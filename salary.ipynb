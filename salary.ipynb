{
 "cells": [
  {
   "cell_type": "code",
   "execution_count": null,
   "id": "6088b38f",
   "metadata": {},
   "outputs": [],
   "source": [
    "import sqlite3\n",
    "\n",
    "class SalaryDatabase:\n",
    "    def __init__(self, db):\n",
    "        self.conn = sqlite3.connect(db)\n",
    "        self.cur = self.conn.cursor()\n",
    "        self.cur.execute(\"CREATE TABLE IF NOT EXISTS total_balance (id INTEGER PRIMARY KEY, balance REAL)\")\n",
    "        self.conn.commit()\n",
    "\n",
    "    def insert_salary(self, balance):\n",
    "        self.cur.execute(\"INSERT INTO total_balance (balance) VALUES (?)\", (balance,))\n",
    "        self.conn.commit()\n",
    "\n",
    "    def get_last_salary(self):\n",
    "        self.cur.execute(\"SELECT balance FROM total_balance ORDER BY id DESC LIMIT 1\")\n",
    "        row = self.cur.fetchone()\n",
    "        if row:\n",
    "            return row[0]\n",
    "        else:\n",
    "            return 0\n",
    "\n",
    "    def close(self):\n",
    "        self.conn.close()\n"
   ]
  }
 ],
 "metadata": {
  "kernelspec": {
   "display_name": "Python 3 (ipykernel)",
   "language": "python",
   "name": "python3"
  },
  "language_info": {
   "codemirror_mode": {
    "name": "ipython",
    "version": 3
   },
   "file_extension": ".py",
   "mimetype": "text/x-python",
   "name": "python",
   "nbconvert_exporter": "python",
   "pygments_lexer": "ipython3",
   "version": "3.9.13"
  }
 },
 "nbformat": 4,
 "nbformat_minor": 5
}
