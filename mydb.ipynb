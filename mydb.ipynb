{
 "cells": [
  {
   "cell_type": "code",
   "execution_count": null,
   "id": "255f4fb6",
   "metadata": {},
   "outputs": [],
   "source": [
    "import sqlite3\n",
    "\n",
    "class Database:\n",
    "    def __init__(self, db):\n",
    "        self.conn = sqlite3.connect(db)\n",
    "        self.cur = self.conn.cursor()\n",
    "        self.cur.execute(\"CREATE TABLE IF NOT EXISTS expense_record (item_name TEXT, item_price REAL, purchase_date TEXT)\")\n",
    "        self.cur.execute(\"CREATE TABLE IF NOT EXISTS total_balance (id INTEGER PRIMARY KEY, balance REAL)\")\n",
    "        self.conn.commit()\n",
    "\n",
    "    def insertRecord(self, item_name, item_price, purchase_date):\n",
    "        self.cur.execute(\"INSERT INTO expense_record VALUES (?, ?, ?)\", (item_name, item_price, purchase_date))\n",
    "        self.conn.commit()\n",
    "\n",
    "    def fetchRecord(self, query):\n",
    "        self.cur.execute(query)\n",
    "        rows = self.cur.fetchall()\n",
    "        return rows\n",
    "\n",
    "    def updateRecord(self, item_name, item_price, purchase_date, rowid):\n",
    "        self.cur.execute(\"UPDATE expense_record SET item_name=?, item_price=?, purchase_date=? WHERE rowid=?\", (item_name, item_price, purchase_date, rowid))\n",
    "        self.conn.commit()\n",
    "\n",
    "    def removeRecord(self, rowid):\n",
    "        self.cur.execute(\"DELETE FROM expense_record WHERE rowid=?\", (rowid,))\n",
    "        self.conn.commit()\n",
    "\n",
    "\n",
    "    def close(self):\n",
    "        self.conn.close()\n"
   ]
  }
 ],
 "metadata": {
  "kernelspec": {
   "display_name": "Python 3 (ipykernel)",
   "language": "python",
   "name": "python3"
  },
  "language_info": {
   "codemirror_mode": {
    "name": "ipython",
    "version": 3
   },
   "file_extension": ".py",
   "mimetype": "text/x-python",
   "name": "python",
   "nbconvert_exporter": "python",
   "pygments_lexer": "ipython3",
   "version": "3.9.13"
  }
 },
 "nbformat": 4,
 "nbformat_minor": 5
}
